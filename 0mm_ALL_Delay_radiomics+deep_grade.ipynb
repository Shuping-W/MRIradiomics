{
 "cells": [
  {
   "cell_type": "code",
   "execution_count": null,
   "metadata": {},
   "outputs": [],
   "source": [
    "import pandas as pd        \n",
    "import numpy as np       \n",
    "                            \n",
    "from sklearn.utils import shuffle\n",
    "from sklearn.preprocessing import StandardScaler   \n",
    "from sklearn.linear_model import LassoCV\n",
    "from sklearn.model_selection import train_test_split\n",
    "from sklearn.ensemble import RandomForestClassifier\n",
    "from sklearn import svm"
   ]
  },
  {
   "cell_type": "code",
   "execution_count": null,
   "metadata": {},
   "outputs": [],
   "source": [
    "xlsx1_filepath = r\"F:\\Newdataset\\norm_ALL_CC_Delay.xlsx\"\n",
    "\n",
    "data_1 = pd.read_excel(xlsx1_filepath)\n",
    "\n",
    "x = data_1[data_1.columns[1:]]\n",
    "y = data_1['grade']\n",
    "colNames = x.columns\n",
    "x = x.astype(np.float64)\n",
    "x = StandardScaler().fit_transform(x) \n",
    "X1 = pd.DataFrame(x)\n",
    "X1.columns = colNames"
   ]
  },
  {
   "cell_type": "markdown",
   "metadata": {},
   "source": [
    "## MI"
   ]
  },
  {
   "cell_type": "code",
   "execution_count": null,
   "metadata": {},
   "outputs": [],
   "source": [
    "from sklearn import feature_selection\n",
    "from sklearn.feature_selection import SelectKBest\n",
    "from sklearn.feature_selection import mutual_info_classif\n",
    "from sklearn.feature_selection import f_classif\n",
    "from sklearn.feature_selection import chi2\n",
    "mi = SelectKBest(mutual_info_classif,k = 200).fit(X1,y)\n",
    "len(X1.columns[mi.get_support()])\n",
    "X_mi=mi.transform(X1)\n",
    "\n",
    "X_mi = pd.DataFrame(X_mi)\n",
    "X_mi.columns = X1.columns[mi.get_support()]\n",
    "\n",
    "# X=X[features]"
   ]
  },
  {
   "cell_type": "markdown",
   "metadata": {},
   "source": [
    "## RFE"
   ]
  },
  {
   "cell_type": "code",
   "execution_count": null,
   "metadata": {
    "scrolled": true
   },
   "outputs": [],
   "source": [
    "from sklearn.feature_selection import RFE\n",
    "rfe = RFE(RandomForestClassifier(n_estimators=100,random_state=0),n_features_to_select=100,step=10)\n",
    "rfe.fit(X_mi,y)\n",
    "\n",
    "X_features = X_mi.columns[rfe.get_support()]\n",
    "\n",
    "X1=X1[X_features]\n",
    "\n",
    "# X_RFE=rfe.transform(X_selected)"
   ]
  },
  {
   "cell_type": "markdown",
   "metadata": {},
   "source": [
    "## LASSO"
   ]
  },
  {
   "cell_type": "code",
   "execution_count": null,
   "metadata": {
    "scrolled": true
   },
   "outputs": [],
   "source": [
    "%%time\n",
    "import warnings\n",
    "warnings.filterwarnings(\"ignore\")\n",
    "\n",
    "alphas = np.logspace(-5,2,100) \n",
    "# print(alphas)\n",
    "model_lassoCV = LassoCV(alphas = alphas, cv = 10, max_iter = 100000).fit(X1,y) \n",
    "print('The Optimal alpha is :',model_lassoCV.alpha_)  \n",
    "print('--------------------')\n",
    "coef = pd.Series(model_lassoCV.coef_ ,index = X1.columns)\n",
    "# print(coef) \n",
    "print('LASSO selected ' + str(sum(coef != 0)) + ' variable and eliminated the other' +  str(sum(coef == 0)))"
   ]
  },
  {
   "cell_type": "code",
   "execution_count": null,
   "metadata": {},
   "outputs": [],
   "source": [
    "index = coef[coef != 0 ].index\n",
    "X1 = X1[index]\n",
    "print(coef[coef != 0])"
   ]
  },
  {
   "cell_type": "markdown",
   "metadata": {},
   "source": [
    "## Convolution features"
   ]
  },
  {
   "cell_type": "code",
   "execution_count": null,
   "metadata": {},
   "outputs": [],
   "source": [
    "xlsx2_filepath = r\"F:\\Newdataset\\muilt_ROI\\CC_deep_features2048.xlsx\"\n",
    "\n",
    "data_2 = pd.read_excel(xlsx2_filepath)\n",
    "x = data_2[data_2.columns[1:]]\n",
    "y = data_2['grade']\n",
    "colNames = x.columns\n",
    "x = x.astype(np.float64)\n",
    "x = StandardScaler().fit_transform(x) \n",
    "X2 = pd.DataFrame(x)\n",
    "X2.columns = colNames"
   ]
  },
  {
   "cell_type": "code",
   "execution_count": null,
   "metadata": {},
   "outputs": [],
   "source": [
    "from sklearn import feature_selection\n",
    "from sklearn.feature_selection import SelectKBest\n",
    "from sklearn.feature_selection import mutual_info_classif\n",
    "from sklearn.feature_selection import f_classif\n",
    "from sklearn.feature_selection import chi2\n",
    "mi = SelectKBest(mutual_info_classif,k = 100).fit(X2,y)\n",
    "len(X2.columns[mi.get_support()])\n",
    "X2_mi=mi.transform(X2)\n",
    "\n",
    "X2_mi = pd.DataFrame(X2_mi)\n",
    "X2_mi.columns = X2.columns[mi.get_support()]"
   ]
  },
  {
   "cell_type": "code",
   "execution_count": null,
   "metadata": {},
   "outputs": [],
   "source": [
    "from sklearn.feature_selection import RFE\n",
    "rfe = RFE(RandomForestClassifier(n_estimators=100,random_state=0),n_features_to_select=5,step=10)\n",
    "rfe.fit(X2_mi,y)\n",
    "\n",
    "X2_features = X2_mi.columns[rfe.get_support()]\n",
    "\n",
    "X2=X2[X2_features]"
   ]
  },
  {
   "cell_type": "code",
   "execution_count": null,
   "metadata": {},
   "outputs": [],
   "source": [
    "%%time\n",
    "\n",
    "alphas = np.logspace(-6,2,100) \n",
    "# print(alphas)\n",
    "model_lassoCV = LassoCV(alphas = alphas ,cv = 10, max_iter = 100000).fit(X2,y) \n",
    "print('The Optimal alpha is :',model_lassoCV.alpha_)  \n",
    "print('--------------------')\n",
    "coef = pd.Series(model_lassoCV.coef_ ,index = X2.columns)   \n",
    "# print(coef)\n",
    "print('LASSO selected ' + str(sum(coef != 0)) + ' variable and eliminated the other' +  str(sum(coef == 0)))"
   ]
  },
  {
   "cell_type": "code",
   "execution_count": null,
   "metadata": {},
   "outputs": [],
   "source": [
    "index = coef[coef != 0 ].index\n",
    "X2 = X2[index]\n",
    "print(coef[coef != 0])"
   ]
  },
  {
   "cell_type": "code",
   "execution_count": null,
   "metadata": {},
   "outputs": [],
   "source": [
    "Xs = pd.concat([X1,X2],axis=1)"
   ]
  },
  {
   "cell_type": "code",
   "execution_count": null,
   "metadata": {},
   "outputs": [],
   "source": [
    "import matplotlib.pyplot as plt\n",
    "import seaborn as sns\n",
    "plt.figure(figsize = (12,6),dpi = 300)\n",
    "sns.heatmap(Xs.corr(),xticklabels = Xs.corr().columns,yticklabels = Xs.corr().columns,cmap = 'RdBu',center = 0,annot = True)\n",
    "\n",
    "plt.title('Correlation coefficient matrix of features for E0',fontsize = 20)\n",
    "plt.xticks(fontsize = 12)\n",
    "plt.yticks(fontsize = 12)\n",
    "plt.show()"
   ]
  },
  {
   "cell_type": "markdown",
   "metadata": {},
   "source": [
    "## SVM"
   ]
  },
  {
   "cell_type": "code",
   "execution_count": null,
   "metadata": {},
   "outputs": [],
   "source": [
    "x_train,x_test,y_train,y_test = train_test_split(Xs,y,test_size = 0.3)\n",
    "model_svm = svm.SVC(kernel='rbf',gamma = 'auto',class_weight= 'balanced',probability = True).fit(x_train,y_train)\n",
    "score_svm1 = model_svm.score(x_train,y_train)\n",
    "score_svm2 = model_svm.score(x_test,y_test)\n",
    "print(score_svm1)\n",
    "print(score_svm2)"
   ]
  },
  {
   "cell_type": "code",
   "execution_count": null,
   "metadata": {},
   "outputs": [],
   "source": [
    "from sklearn.model_selection import GridSearchCV\n",
    "Cs = np.logspace(-2,6,50,base = 2)\n",
    "gammas = np.logspace(-6,4,50,base = 2)\n",
    "param_grid = dict(C = Cs,gamma = gammas)\n",
    "grid = GridSearchCV(svm.SVC(kernel='rbf',class_weight= 'balanced'),param_grid = param_grid,cv = 5).fit(Xs,y)\n",
    "print(grid.best_params_)\n",
    "#'C': 0.6922608929229022, 'gamma': 0.055812601103520335"
   ]
  },
  {
   "cell_type": "code",
   "execution_count": null,
   "metadata": {},
   "outputs": [],
   "source": [
    "from sklearn.model_selection import cross_val_score\n",
    "C = grid.best_params_['C']\n",
    "gamma = grid.best_params_['gamma']\n",
    "x_train,x_test,y_train,y_test = train_test_split(Xs,y,test_size = 0.3)\n",
    "model_svm = svm.SVC(C = C,kernel='rbf',gamma =gamma,class_weight= 'balanced',probability = True).fit(x_train,y_train)\n",
    "score_svm_train = model_svm.score(x_train,y_train)\n",
    "score_svm_test = model_svm.score(x_test,y_test)\n",
    "print(score_svm_train)\n",
    "print(score_svm_test)\n",
    "\n",
    "model_cv = cross_val_score(model_svm,Xs,y,cv = 10).mean()\n",
    "print(model_cv)"
   ]
  },
  {
   "cell_type": "code",
   "execution_count": null,
   "metadata": {},
   "outputs": [],
   "source": [
    "y_pred = clf.predict(x_test)\n",
    "print((y_test).values)\n",
    "print(y_pred)\n",
    "\n",
    "from sklearn.metrics import accuracy_score,precision_score, \\\n",
    "recall_score,f1_score,cohen_kappa_score\n",
    "print('ACC：',\n",
    "      accuracy_score(y_test,y_pred))\n",
    "print('precision：',\n",
    "      precision_score(y_test,y_pred))\n",
    "print('recall：',\n",
    "      recall_score(y_test,y_pred))\n",
    "print('f1_score：',\n",
    "      f1_score(y_test,y_pred))\n",
    "\n",
    "\n",
    "from sklearn.metrics import classification_report\n",
    "print(classification_report(y_test,y_pred))"
   ]
  },
  {
   "cell_type": "code",
   "execution_count": null,
   "metadata": {},
   "outputs": [],
   "source": [
    "from sklearn.metrics import roc_curve,roc_auc_score,auc\n",
    "import matplotlib.pyplot as plt\n",
    "plt.figure(figsize=(8,6))\n",
    "\n",
    "y_probs = model_svm.predict_proba(x_test)  \n",
    "# # print(y_probs)             \n",
    "# # print(y_probs[:,1])\n",
    "fpr,tpr,thresholds = roc_curve(y_test,y_probs[:,1],pos_label = 1)\n",
    "\n",
    "auc_score = auc(fpr,tpr)\n",
    "plt.plot(fpr, tpr, color='darkorange',\n",
    "         lw=2, label='ROC curve (AUC = %0.2f)' % auc_score)\n",
    "# plt.plot(fpr,tpr,marker = '')\n",
    "plt.xlabel('FPR')\n",
    "plt.ylabel('TPR')\n",
    "plt.title('ROC for PVE')\n",
    "plt.plot([0, 1], [0, 1], color='navy', lw=2, linestyle='--')\n",
    "plt.legend(loc=\"lower right\")\n",
    "plt.show()"
   ]
  },
  {
   "cell_type": "code",
   "execution_count": null,
   "metadata": {},
   "outputs": [],
   "source": []
  }
 ],
 "metadata": {
  "kernelspec": {
   "display_name": "Python 3",
   "language": "python",
   "name": "python3"
  },
  "language_info": {
   "codemirror_mode": {
    "name": "ipython",
    "version": 3
   },
   "file_extension": ".py",
   "mimetype": "text/x-python",
   "name": "python",
   "nbconvert_exporter": "python",
   "pygments_lexer": "ipython3",
   "version": "3.8.5"
  }
 },
 "nbformat": 4,
 "nbformat_minor": 4
}
